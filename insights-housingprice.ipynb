{
 "cells": [
  {
   "cell_type": "markdown",
   "id": "5c699616-fd0b-4345-b204-a7eaee51fd95",
   "metadata": {},
   "source": [
    "# MORPC Insights - Housing Price and Income Profile"
   ]
  },
  {
   "cell_type": "raw",
   "id": "98aef579-a293-440e-9f4b-da1919d86232",
   "metadata": {},
   "source": [
    "bar = pd.read_excel(\"./bar.xlsx\", sheet_name=\"Data - Formated USE\")\n",
    "\n",
    "schema = morpc.frictionless_load_schema(\"../morpc-housingcost-profile/output_data/morpc-housingcost-profile.schema.yaml\")\n",
    "\n",
    "bar = bar.filter(items=schema.field_names, axis=\"columns\")\n",
    "\n",
    "bar = morpc.cast_field_types(bar, schema, forceInteger=True)\n",
    "\n",
    "bar.to_csv(\"../morpc-housingcost-profile/output_data/morpc-housingcost-profile.csv\", index=False)"
   ]
  },
  {
   "cell_type": "markdown",
   "id": "f266558b-c357-429c-b3ec-074e23751904",
   "metadata": {},
   "source": [
    "## Overview"
   ]
  },
  {
   "cell_type": "markdown",
   "id": "caffba84-d13c-412f-8992-c686048f1a68",
   "metadata": {},
   "source": [
    "The Multiple Listing Service (MLS) is a database used by realtors to track and share real estate sales.  MORPC has access to MLS data for the Central Ohio area thanks to the generosity of Columbus Realtors.  Each record in the database represents a listing of a property for sale and contains attributes that track the status and the end result of the sale, including sale price. \n",
    "\n",
    "The American Community Survey produces estimates of median household income for geographies down to the tract level.\n",
    "\n",
    "This notebook produces a tileset that includes a summary of MLS median home sale price and median household income for the MORPC 15-county region and the counties and communities therein.  This notebook is the final stage in a pipeline that fetches, standardizes, and summarizes the data from several sources."
   ]
  },
  {
   "cell_type": "markdown",
   "id": "12f498db-624a-4612-98bc-4fb293545126",
   "metadata": {},
   "source": [
    "## Setup"
   ]
  },
  {
   "cell_type": "markdown",
   "id": "e78b2de3-e2a7-4a7f-8ac4-15b7ec9e1878",
   "metadata": {},
   "source": [
    "### Load required libraries"
   ]
  },
  {
   "cell_type": "code",
   "execution_count": null,
   "id": "218f7cbb-4c18-4bb6-b5c9-67b13bbf20cb",
   "metadata": {},
   "outputs": [],
   "source": [
    "import pandas as pd\n",
    "import frictionless\n",
    "import os\n",
    "import sys\n",
    "import math\n",
    "import datetime\n",
    "import textwrap\n",
    "import matplotlib\n",
    "from matplotlib import pyplot as plt\n",
    "sys.path.append(os.path.normpath(\"../morpc-common\"))\n",
    "import morpc"
   ]
  },
  {
   "cell_type": "markdown",
   "id": "7dafa778-fe68-4ff2-845a-071e1953d178",
   "metadata": {},
   "source": [
    "### User-specified parameters"
   ]
  },
  {
   "cell_type": "code",
   "execution_count": null,
   "id": "cda8a1e3-db9a-4d81-a3d4-146e8f66018c",
   "metadata": {},
   "outputs": [],
   "source": [
    "YEAR_RANGE = [2012, 2023]\n",
    "\n",
    "# Suppress sales data for geograpy/year combinations in which there were fewer than this many sales\n",
    "LOW_COUNT_SUPPRESSION_THRESHOLD = 10\n",
    "\n",
    "# Suppress median income data for geography/year combinations in which the relative margin of error is greater than this ratio\n",
    "MEDIAN_INCOME_SUPPRESSION_THRESHOLD = 0.25\n",
    "\n",
    "# Suppress mean income data for geography/year combinations in which the relative margin of error is greater than this ratio\n",
    "MEAN_INCOME_SUPPRESSION_THRESHOLD = 0.25"
   ]
  },
  {
   "cell_type": "markdown",
   "id": "2d807186-9539-4286-b975-68d7afa999aa",
   "metadata": {},
   "source": [
    "### Static parameters"
   ]
  },
  {
   "cell_type": "code",
   "execution_count": null,
   "id": "1c95808b-a8b8-45e2-9653-7f177dbf7cf5",
   "metadata": {},
   "outputs": [],
   "source": [
    "INPUT_DIR = os.path.normpath(\"./input_data\")\n",
    "\n",
    "OUTPUT_DIR = os.path.normpath(\"./output_data\")\n",
    "\n",
    "CHART_DIRNAME = \"charts\"\n",
    "\n",
    "# Price to income ratio values that designate how affordability the market is\n",
    "# Values represent the floor for the specified affordability level\n",
    "# See https://www.jchs.harvard.edu/blog/home-price-income-ratio-reaches-record-high-0\n",
    "AFFORDABILITY_BREAKPOINTS = {\n",
    "    # \"Affordable\": 0,\n",
    "    \"Moderately Unaffordable\":3,\n",
    "    \"Seriously Unaffordable\":4,\n",
    "    \"Severely Unaffordable\":5\n",
    "}"
   ]
  },
  {
   "cell_type": "markdown",
   "id": "3e0f86cf-e578-43c5-809a-10502263c5c4",
   "metadata": {},
   "source": [
    "### Define inputs"
   ]
  },
  {
   "cell_type": "markdown",
   "id": "7778c336-3e52-4beb-848a-66eaa6eb221d",
   "metadata": {},
   "source": [
    "#### Create input data directory"
   ]
  },
  {
   "cell_type": "markdown",
   "id": "d6036e8e-8c0c-41bf-8f2a-4bd63ec21059",
   "metadata": {},
   "source": [
    "Create input data directory if it doesn't exist."
   ]
  },
  {
   "cell_type": "code",
   "execution_count": null,
   "id": "50e4f010-ae38-416f-80a5-c5c0cf3e444e",
   "metadata": {},
   "outputs": [],
   "source": [
    "inputDir = os.path.normpath(INPUT_DIR)\n",
    "if not os.path.exists(inputDir):\n",
    "    os.makedirs(inputDir)"
   ]
  },
  {
   "cell_type": "markdown",
   "id": "88bb506d-be1a-4cee-9274-28fe61c80c01",
   "metadata": {},
   "source": [
    "#### Housing cost and income profile"
   ]
  },
  {
   "cell_type": "code",
   "execution_count": null,
   "id": "fed15fa9-86db-4a47-88d3-6e73260c0128",
   "metadata": {},
   "outputs": [],
   "source": [
    "HOUSING_PROFILE_RESOURCE = \"../morpc-housingcost-profile/output_data/morpc-housingcost-profile.resource.yaml\"\n",
    "print(\"Resource: {}\".format(HOUSING_PROFILE_RESOURCE))"
   ]
  },
  {
   "cell_type": "markdown",
   "id": "12c9c103-eaef-4a34-b51d-b9680aaf68cc",
   "metadata": {},
   "source": [
    "#### Geography lookup table [375]"
   ]
  },
  {
   "cell_type": "code",
   "execution_count": null,
   "id": "b72ed961-5dfe-43db-9bbd-ab328fa7c9c5",
   "metadata": {},
   "outputs": [],
   "source": [
    "GEOS_LOOKUP_TABLE_RESOURCE = os.path.normpath(\"../morpc-geos-collect/output_data/morpc-geos-lookup.resource.yaml\")\n",
    "print(\"Resource file: {}\".format(GEOS_LOOKUP_TABLE_RESOURCE))"
   ]
  },
  {
   "cell_type": "markdown",
   "id": "5d6c7a61-3941-47ee-983f-f2d06776df24",
   "metadata": {},
   "source": [
    "#### MORPC member list [122]"
   ]
  },
  {
   "cell_type": "code",
   "execution_count": null,
   "id": "dfec2f2b-1333-4a86-968f-84da9df08ecf",
   "metadata": {},
   "outputs": [],
   "source": [
    "MEMBERS_DATA_PATH = \"../morpc-lookup/Member_List.xlsx\"\n",
    "MEMBERS_SHEET = \"Current Year Members\"\n",
    "MEMBERS_SCHEMA_PATH = \"../morpc-lookup/Member_List_schema.json\"\n",
    "print(\"Data: {}, sheet '{}'\".format(MEMBERS_DATA_PATH, MEMBERS_SHEET))\n",
    "print(\"Schema: {}\".format(MEMBERS_SCHEMA_PATH))"
   ]
  },
  {
   "cell_type": "markdown",
   "id": "ae74c606-606d-406e-bef1-ec740db1c0ed",
   "metadata": {
    "tags": []
   },
   "source": [
    "### Define outputs"
   ]
  },
  {
   "cell_type": "markdown",
   "id": "e99f094c-d946-4f72-8184-f5cea1cd18ea",
   "metadata": {
    "tags": []
   },
   "source": [
    "#### Create output data directory"
   ]
  },
  {
   "cell_type": "markdown",
   "id": "1ede1075-913c-4ec7-9f81-2b593d8dbea7",
   "metadata": {},
   "source": [
    "Create output data directory if it doesn't exist."
   ]
  },
  {
   "cell_type": "code",
   "execution_count": null,
   "id": "6eb8522f-e434-4530-9f5f-4f3a9cf0ff5e",
   "metadata": {},
   "outputs": [],
   "source": [
    "outputDir = os.path.normpath(OUTPUT_DIR)\n",
    "if not os.path.exists(outputDir):\n",
    "    os.makedirs(outputDir)   "
   ]
  },
  {
   "cell_type": "code",
   "execution_count": null,
   "id": "ed0fd019-9624-47a0-8cf0-9f494057663c",
   "metadata": {},
   "outputs": [],
   "source": [
    "chartDir = os.path.join(outputDir, CHART_DIRNAME)\n",
    "if not os.path.exists(chartDir):\n",
    "    os.makedirs(chartDir)    "
   ]
  },
  {
   "cell_type": "markdown",
   "id": "2ea44deb-b239-4ae1-9040-244404a429b5",
   "metadata": {
    "tags": []
   },
   "source": [
    "#### Housing cost and income profile (Insights version)"
   ]
  },
  {
   "cell_type": "code",
   "execution_count": null,
   "id": "d0746090-6e45-40e4-a248-81b52879e4f1",
   "metadata": {},
   "outputs": [],
   "source": [
    "HOUSING_COST_FILENAME = \"housingcost-long.csv\"\n",
    "HOUSING_COST_TABLE_PATH = os.path.join(outputDir, HOUSING_COST_FILENAME)\n",
    "HOUSING_COST_SCHEMA_PATH = HOUSING_COST_TABLE_PATH.replace(\".csv\",\".schema.yaml\")\n",
    "HOUSING_COST_RESOURCE_PATH = HOUSING_COST_TABLE_PATH.replace(\".csv\",\".resource.yaml\")\n",
    "print(\"Data: {}\".format(HOUSING_COST_TABLE_PATH))\n",
    "print(\"Schema: {}\".format(HOUSING_COST_SCHEMA_PATH))\n",
    "print(\"Resource file: {}\".format(HOUSING_COST_RESOURCE_PATH))"
   ]
  },
  {
   "cell_type": "markdown",
   "id": "acfb611a-e884-49ee-8431-adac7534438d",
   "metadata": {},
   "source": [
    "## Prepare input data"
   ]
  },
  {
   "cell_type": "markdown",
   "id": "e2ee9926-8ed4-4f8d-8a30-e2ce931b8fb8",
   "metadata": {},
   "source": [
    "### Load geography lookup table"
   ]
  },
  {
   "cell_type": "code",
   "execution_count": null,
   "id": "ea238b49-e395-4837-9189-2c317e1b2381",
   "metadata": {
    "scrolled": true
   },
   "outputs": [],
   "source": [
    "(geosRaw, geosRawResource, geosRawSchema) = morpc.frictionless_load_data(GEOS_LOOKUP_TABLE_RESOURCE, validate=True, archiveDir=inputDir)"
   ]
  },
  {
   "cell_type": "code",
   "execution_count": null,
   "id": "b75205b3-fbbe-4e9b-ae5f-2967b577aeec",
   "metadata": {},
   "outputs": [],
   "source": [
    "geosRaw.head()"
   ]
  },
  {
   "cell_type": "code",
   "execution_count": null,
   "id": "7ceef01b-05a6-4af6-859d-7c8a1896e5aa",
   "metadata": {},
   "outputs": [],
   "source": [
    "geos = geosRaw.copy()"
   ]
  },
  {
   "cell_type": "markdown",
   "id": "1fdab135-8283-49f2-b8b3-94f6b7c3b43c",
   "metadata": {},
   "source": [
    "### Load summarized housing cost profile from upstream workflows"
   ]
  },
  {
   "cell_type": "code",
   "execution_count": null,
   "id": "2d947ec7-5338-47ef-8a66-418db1472a88",
   "metadata": {
    "scrolled": true
   },
   "outputs": [],
   "source": [
    "(housingRaw, housingRawResource, housingRawSchema) = morpc.frictionless_load_data(HOUSING_PROFILE_RESOURCE, validate=True, archiveDir=inputDir)"
   ]
  },
  {
   "cell_type": "code",
   "execution_count": null,
   "id": "c308f782-ac11-4073-97bc-6b3b02706754",
   "metadata": {},
   "outputs": [],
   "source": [
    "housingRaw.head()"
   ]
  },
  {
   "cell_type": "code",
   "execution_count": null,
   "id": "660b1724-4ddb-499a-9631-e50020a7216d",
   "metadata": {},
   "outputs": [],
   "source": [
    "housing = housingRaw.copy()"
   ]
  },
  {
   "cell_type": "markdown",
   "id": "c29961dd-87c3-4a39-96d2-a7cd61255966",
   "metadata": {},
   "source": [
    "### MORPC member list"
   ]
  },
  {
   "cell_type": "markdown",
   "id": "97f8eda7-d676-42be-9450-b1c449ea01d2",
   "metadata": {},
   "source": [
    "The output data will include all communities for whom data has not been suppressed, however we will only show data for MORPC members in the platform."
   ]
  },
  {
   "cell_type": "markdown",
   "id": "e4e2bc51-5445-42fb-8e46-52190793196d",
   "metadata": {},
   "source": [
    "Load the member table."
   ]
  },
  {
   "cell_type": "code",
   "execution_count": null,
   "id": "61d720c7-80fe-484d-9f53-2622b1077bbe",
   "metadata": {},
   "outputs": [],
   "source": [
    "membersRaw = pd.read_excel(MEMBERS_DATA_PATH, sheet_name=MEMBERS_SHEET)\n",
    "membersRaw.head()"
   ]
  },
  {
   "cell_type": "markdown",
   "id": "19c51f5c-c82d-453c-8363-0be3e7927514",
   "metadata": {},
   "source": [
    "Load the schema."
   ]
  },
  {
   "cell_type": "code",
   "execution_count": null,
   "id": "7add8fc6-0436-4018-b364-19e4231a9a5d",
   "metadata": {},
   "outputs": [],
   "source": [
    "membersSchema = morpc.load_avro_schema(MEMBERS_SCHEMA_PATH)"
   ]
  },
  {
   "cell_type": "markdown",
   "id": "6101ed3a-7c54-453f-871f-3288acab01d4",
   "metadata": {},
   "source": [
    "Verify that the fields are all the expected types."
   ]
  },
  {
   "cell_type": "code",
   "execution_count": null,
   "id": "8b0906af-639d-4ab6-8cda-c61c272705f5",
   "metadata": {
    "scrolled": true
   },
   "outputs": [],
   "source": [
    "members = morpc.cast_field_types(membersRaw, membersSchema)"
   ]
  },
  {
   "cell_type": "markdown",
   "id": "ec8c65de-ba5c-4262-a719-1f79f923d890",
   "metadata": {},
   "source": [
    "Extract only the communities which are themselves a member."
   ]
  },
  {
   "cell_type": "code",
   "execution_count": null,
   "id": "79f91ad9-586f-4f2f-90d6-dc567cc3f180",
   "metadata": {},
   "outputs": [],
   "source": [
    "members = members.loc[members[\"Local Member\"] == True].copy()"
   ]
  },
  {
   "cell_type": "markdown",
   "id": "b94ae797-3271-43f1-89dc-2a5bbabf755a",
   "metadata": {},
   "source": [
    "The records in the member table are all county parts.  For places we need to subsitute the GEOID for the full place rather than the county part."
   ]
  },
  {
   "cell_type": "code",
   "execution_count": null,
   "id": "b600a1af-b8bc-488d-a309-9e3f41982926",
   "metadata": {},
   "outputs": [],
   "source": [
    "members[\"PLACEFP\"] = members[\"GEOID\"].apply(lambda x:x[11:16])\n",
    "members[\"COUSUBFP\"] = members[\"GEOID\"].apply(lambda x:x[14:19])\n",
    "members[\"COUNTYID\"] = members[\"County\"].map(morpc.CONST_COUNTY_NAME_TO_ID)\n",
    "members[\"GEOIDFQ\"] = None\n",
    "temp = members.loc[members[\"GovType\"] == \"Township\"].copy()\n",
    "temp[\"GEOIDFQ\"] = temp[\"GEOID\"]\n",
    "members.update(temp)\n",
    "temp = members.loc[members[\"GovType\"] != \"Township\"].copy()\n",
    "temp[\"GEOIDFQ\"] = \"1600000US39\" + temp[\"PLACEFP\"]\n",
    "members.update(temp)"
   ]
  },
  {
   "cell_type": "markdown",
   "id": "e2243082-c666-46eb-a91c-a451472900d8",
   "metadata": {},
   "source": [
    "Now extract just the list of member GEOIDs.  The steps above likely produced duplicate records for places, so extract only the unique GEOIDs."
   ]
  },
  {
   "cell_type": "code",
   "execution_count": null,
   "id": "5db1cd30-bd83-4dd1-ab8a-36477357b737",
   "metadata": {},
   "outputs": [],
   "source": [
    "memberList = list(members[\"GEOIDFQ\"].unique())"
   ]
  },
  {
   "cell_type": "markdown",
   "id": "dc9e6836-0493-4606-b79c-f9faf58e7b98",
   "metadata": {},
   "source": [
    "We also need to append the list of counties.  We will include data for all counties regardless of membership status."
   ]
  },
  {
   "cell_type": "code",
   "execution_count": null,
   "id": "6c636723-7395-43f0-8006-b9734f4c5b3a",
   "metadata": {},
   "outputs": [],
   "source": [
    "memberList += [\"0500000US{}\".format(morpc.CONST_COUNTY_NAME_TO_ID[x]) for x in morpc.CONST_REGIONS['REGION15']]"
   ]
  },
  {
   "cell_type": "markdown",
   "id": "5ef3c2cd-9e90-4b6b-9e78-82f2a19c073b",
   "metadata": {},
   "source": [
    "Finally we need to append the ID for the MORPC region."
   ]
  },
  {
   "cell_type": "code",
   "execution_count": null,
   "id": "63b6e70a-457f-4cbf-bbce-7d8865300d3c",
   "metadata": {},
   "outputs": [],
   "source": [
    "memberList.append(\"M010000US001\")"
   ]
  },
  {
   "cell_type": "markdown",
   "id": "0c7bced1-052e-402d-85f4-609304af24d2",
   "metadata": {},
   "source": [
    "## Transform data to format required by Insights platform"
   ]
  },
  {
   "cell_type": "markdown",
   "id": "643ab187-e227-41cc-8e67-4f51b957c812",
   "metadata": {},
   "source": [
    "Create a working copy."
   ]
  },
  {
   "cell_type": "code",
   "execution_count": null,
   "id": "42448c09-dd04-40ec-9939-bc36bdbeb8e7",
   "metadata": {},
   "outputs": [],
   "source": [
    "housing = housingRaw.copy()"
   ]
  },
  {
   "cell_type": "markdown",
   "id": "48b0bc66-0635-45fa-ab51-78c03d9d85ac",
   "metadata": {},
   "source": [
    "Extract records from the specified year range."
   ]
  },
  {
   "cell_type": "code",
   "execution_count": null,
   "id": "41f0f855-8c0e-4bdc-acd6-fd989a01db81",
   "metadata": {},
   "outputs": [],
   "source": [
    "housing = housing.loc[housingRaw[\"YEAR\"].isin(range(YEAR_RANGE[0], YEAR_RANGE[1]+1))].copy()"
   ]
  },
  {
   "cell_type": "markdown",
   "id": "9b5daa75-c704-494d-94af-4bbb3089b8c2",
   "metadata": {},
   "source": [
    "Convert the SUMLEVEL code to a text description of the geography type."
   ]
  },
  {
   "cell_type": "code",
   "execution_count": null,
   "id": "5a87e0a8-1a3b-4ac2-ba04-21f194e2b96e",
   "metadata": {},
   "outputs": [],
   "source": [
    "housing[\"GEOTYPE\"] = housing[\"SUMLEVEL\"].map(morpc.HIERARCHY_STRING_LOOKUP)"
   ]
  },
  {
   "cell_type": "markdown",
   "id": "73710327-7a6f-421c-946f-15f877381a84",
   "metadata": {},
   "source": [
    "Join some fields from the geography lookup table, dropping the existing name field to make way for the name field in the join table.  Add the state FIPS code to the county FIPS code and use the resulting GEOID to look up the county name."
   ]
  },
  {
   "cell_type": "code",
   "execution_count": null,
   "id": "18a0f552-7350-4bb9-9104-988f751b03ee",
   "metadata": {},
   "outputs": [],
   "source": [
    "housing = housing.drop(columns=\"NAME\").merge(geos[[\"GEOIDFQ\",\"COUNTYFP\",\"NAME\"]], on=\"GEOIDFQ\")\n",
    "housing[\"COUNTYFP\"] = \"39\" + housing[\"COUNTYFP\"]\n",
    "housing[\"COUNTY\"] = housing[\"COUNTYFP\"].map(morpc.CONST_COUNTY_ID_TO_NAME)"
   ]
  },
  {
   "cell_type": "markdown",
   "id": "f5f24c2a-7f3d-49b2-b7a5-7a3a23e09a82",
   "metadata": {},
   "source": [
    "Extract the unincorporated townships (SUMLEVEL 070) and append a suffix that includes \"Township\" and the county name to disambiguate townships from places and counties."
   ]
  },
  {
   "cell_type": "code",
   "execution_count": null,
   "id": "15a91312-3cdd-4fc8-babf-d796fd04f8dc",
   "metadata": {},
   "outputs": [],
   "source": [
    "temp = housing.loc[housing[\"SUMLEVEL\"] == \"070\"].copy()\n",
    "temp[\"NAME\"] = temp[\"NAME\"] + \" Township (\" + temp[\"COUNTY\"] + \")\"\n",
    "housing.update(temp, overwrite=True, errors=\"ignore\")"
   ]
  },
  {
   "cell_type": "markdown",
   "id": "1f6d8c46-3cf1-4325-b858-c2b2542ea819",
   "metadata": {},
   "source": [
    "Extract the counties (SUMLEVEL 050) and append a \"County\" suffix to disambiguate the counties from places."
   ]
  },
  {
   "cell_type": "code",
   "execution_count": null,
   "id": "e280eddb-b257-45c9-b7e4-344105961be6",
   "metadata": {},
   "outputs": [],
   "source": [
    "temp = housing.loc[housing[\"SUMLEVEL\"] == \"050\"].copy()\n",
    "temp[\"NAME\"] = temp[\"NAME\"] + \" County\"\n",
    "housing.update(temp, overwrite=True, errors=\"ignore\")"
   ]
  },
  {
   "cell_type": "markdown",
   "id": "3509f35f-391d-4107-9c90-43b973d48a70",
   "metadata": {},
   "source": [
    "Suppress records where the number of sales is lower than the specified threshold."
   ]
  },
  {
   "cell_type": "code",
   "execution_count": null,
   "id": "90e0265d-dbf8-4168-9cfe-e414ecf09533",
   "metadata": {},
   "outputs": [],
   "source": [
    "lowCountSuppressionIndex = housing.loc[housing[\"Number of sales\"] < LOW_COUNT_SUPPRESSION_THRESHOLD].index\n",
    "housing.loc[lowCountSuppressionIndex, [\n",
    "    'Median home sale price (2023 dollars)',\n",
    "    'Median home sale price (year-of dollars)',\n",
    "    'Median sale price/income ratio (MSA med inc)',\n",
    "    'Median sale price/income ratio (geography med inc)']] = None\n",
    "print(\"Suppressed {} records where number of sales was below the suppression threshold\".format(len(lowCountSuppressionIndex)))"
   ]
  },
  {
   "cell_type": "markdown",
   "id": "5ade9b03-5a70-444f-bbff-bcaf5578a8dd",
   "metadata": {},
   "source": [
    "Suppress records where the median income margin of error is more than the specified threshold."
   ]
  },
  {
   "cell_type": "code",
   "execution_count": null,
   "id": "86bf2139-3e7e-4f59-9db9-1242dc794d09",
   "metadata": {},
   "outputs": [],
   "source": [
    "medianIncomeSuppressionIndex = housing.loc[(housing[\"Median income MOE (year-of dollars)\"]/housing[\"Median income (year-of dollars)\"]) > MEDIAN_INCOME_SUPPRESSION_THRESHOLD].index\n",
    "housing.loc[medianIncomeSuppressionIndex, [\n",
    "    'Median income (2023 dollars)', \n",
    "    'Median income (year-of dollars)',\n",
    "    'Median sale price/income ratio (MSA med inc)',\n",
    "    'Median sale price/income ratio (geography med inc)']] = None\n",
    "print(\"Suppressed {} records where median income MOE was above the suppression threshold\".format(len(medianIncomeSuppressionIndex)))"
   ]
  },
  {
   "cell_type": "markdown",
   "id": "59dfb8b1-bc42-4730-a6a2-fce6e975d9e5",
   "metadata": {},
   "source": [
    "Suppress records where the mean income margin of error is more than the specified threshold."
   ]
  },
  {
   "cell_type": "code",
   "execution_count": null,
   "id": "19fb6efc-f1d1-452d-95a2-6e39e898bcea",
   "metadata": {},
   "outputs": [],
   "source": [
    "meanIncomeSuppressionIndex = housing.loc[(housing[\"Mean income MOE (year-of dollars)\"]/housing[\"Mean income (year-of dollars)\"]) > MEAN_INCOME_SUPPRESSION_THRESHOLD].index\n",
    "housing.loc[meanIncomeSuppressionIndex, [\n",
    "    'Mean income (2023 dollars)', \n",
    "    'Mean income (year-of dollars)']] = None\n",
    "print(\"Suppressed {} records where mean income MOE was above the suppression threshold\".format(len(meanIncomeSuppressionIndex)))"
   ]
  },
  {
   "cell_type": "markdown",
   "id": "51dcc6a9-9666-4df8-b482-30fd2f58b5c2",
   "metadata": {},
   "source": [
    "Load the output schema and verify that the data contains only the columns present in the output schema."
   ]
  },
  {
   "cell_type": "code",
   "execution_count": null,
   "id": "bcadebdf-9336-45c7-bee0-2a5aa04bcb29",
   "metadata": {},
   "outputs": [],
   "source": [
    "housingCostSchema = morpc.frictionless_load_schema(HOUSING_COST_SCHEMA_PATH)\n",
    "housing = housing.filter(items=housingCostSchema.field_names, axis=\"columns\")"
   ]
  },
  {
   "cell_type": "markdown",
   "id": "b4b1bf1e-0c90-43c4-8ca2-b2c2689813f1",
   "metadata": {},
   "source": [
    "Inspect the data."
   ]
  },
  {
   "cell_type": "code",
   "execution_count": null,
   "id": "15ce2285-f8fc-4215-9a91-e57c8721f631",
   "metadata": {},
   "outputs": [],
   "source": [
    "housing.head()"
   ]
  },
  {
   "cell_type": "markdown",
   "id": "b845876e-aee4-4410-a205-c43379000d4e",
   "metadata": {},
   "source": [
    "## Export data"
   ]
  },
  {
   "cell_type": "code",
   "execution_count": null,
   "id": "82acae8d-4415-45e2-97e8-ece0ab62d669",
   "metadata": {},
   "outputs": [],
   "source": [
    "housing.to_csv(HOUSING_COST_TABLE_PATH, index=False)"
   ]
  },
  {
   "cell_type": "markdown",
   "id": "5958e6a6-1ed1-4f30-9f0d-e1584a7ca0c2",
   "metadata": {},
   "source": [
    "## Create resource file for exported data"
   ]
  },
  {
   "cell_type": "code",
   "execution_count": null,
   "id": "6a8c0cfb-5fae-447a-8d79-3ef8414eadd4",
   "metadata": {
    "scrolled": true
   },
   "outputs": [],
   "source": [
    "housingResource = morpc.frictionless_create_resource(HOUSING_COST_FILENAME, \n",
    "    resourcePath=HOUSING_COST_RESOURCE_PATH,\n",
    "    title=\"MORPC Insights | Housing Cost and Income\", \n",
    "    name=\"housingcost\", \n",
    "    description=\"Home sale price and household income by year for geographies in the MORPC 15-County region.  Sale price data is summarized from Multiple Listing Service (MLS) data.  Income data is from the American Community Survey 1-year estimates.\",\n",
    "    writeResource=True,\n",
    "    validate=True\n",
    ")"
   ]
  },
  {
   "cell_type": "markdown",
   "id": "f9168648-3b4f-48b8-8e06-06f6b3b4ce49",
   "metadata": {},
   "source": [
    "## Generate static charts"
   ]
  },
  {
   "cell_type": "code",
   "execution_count": null,
   "id": "16faa22f-eb61-49c7-8f28-6643acbc817d",
   "metadata": {},
   "outputs": [],
   "source": [
    "for f in os.scandir(chartDir):\n",
    "    os.remove(f)\n",
    "\n",
    "%matplotlib agg\n",
    "# Create a list to accumulate geographies for which a thumbnail is generated\n",
    "platformIncludeList = []\n",
    "# Iterate over each geography in data set\n",
    "for geoid in housing[\"GEOIDFQ\"].unique():\n",
    "    # If the geography is not a MORPC member, skip it. The platform only features members.\n",
    "    if(not geoid in memberList):\n",
    "        continue\n",
    "    \n",
    "    # Extract the data for a single geography\n",
    "    temp = housing.loc[housing[\"GEOIDFQ\"] == geoid].copy()\n",
    "\n",
    "    temp = temp.dropna(subset=\"Median sale price/income ratio (MSA med inc)\")\n",
    "\n",
    "    if(temp.shape[0] < 2):\n",
    "        continue\n",
    "        \n",
    "    platformIncludeList.append(geoid)\n",
    "\n",
    "    # Generate a title string\n",
    "    geoName = temp.iloc[0][\"NAME\"]\n",
    "    title = \"Home sale price to income ratio - {}\".format(geoName)\n",
    "\n",
    "    # Drop the geography name and type\n",
    "    temp = temp.filter(items=[\"YEAR\",\"Median sale price/income ratio (MSA med inc)\"], axis=\"columns\")\n",
    "\n",
    "    # Make the variable names nicer looking\n",
    "    temp = temp.rename(columns={\n",
    "        \"YEAR\":\"Year\",\n",
    "        \"Median sale price/income ratio (MSA med inc)\":\"Price-to-income ratio\"\n",
    "    })\n",
    "    \n",
    "    yMax = temp[\"Price-to-income ratio\"].dropna().max()\n",
    "    yLimMax = math.ceil(1.1*yMax)\n",
    "   \n",
    "    # Create and annotate the plot\n",
    "    PLOTWIDTH = 8\n",
    "    fig,ax = plt.subplots(figsize=(PLOTWIDTH,PLOTWIDTH/16*9))\n",
    "    \n",
    "    temp.plot(ax=ax, x=\"Year\", y=\"Price-to-income ratio\", color=\"black\", linewidth=\"4\", marker=\"o\", \n",
    "              markersize=8, stacked=True, legend=False)\n",
    "    ax.set_title(title, fontsize=14)\n",
    "    ax.set_ylim(ymin=0, ymax=yLimMax)\n",
    "    ax.set_xlim(xmin=YEAR_RANGE[0], xmax=YEAR_RANGE[1]+1)\n",
    "    xlabel = None\n",
    "    ylabel = None\n",
    "    ax.set_xlabel(xlabel)\n",
    "    ax.set_ylabel(ylabel)\n",
    "    ax.set_xticks([round(tick,0) for tick in ax.get_xticks()])\n",
    "    ax.set_yticks([round(tick,0) for tick in ax.get_yticks()])\n",
    "    ax.grid(visible=True, color=\"lightgrey\")\n",
    "    ax.set_axisbelow(True)\n",
    "\n",
    "    # Everything in the following block is needed to put colored bands on the chart representing afforability thresholds. In matplotlib, this is straightforward\n",
    "    # See the ax.fill_between lines.  In Excel ossible using the xlsxwriter.Chart.set_plotarea() function with a gradient, but it is a bit of a pain.  Gradient\n",
    "    # stops need to be specified on a scale of 0 to 100, so they need to be computed separately for each chart.\n",
    "    # First define the colors (muted green) and the breakpoints for the \"Affordable' band    \n",
    "    gradientColors = ['#80C080','#80C080']\n",
    "    if(yLimMax < AFFORDABILITY_BREAKPOINTS['Moderately Unaffordable']):\n",
    "        # If the highest value is still lower than the next affordability band, set the top gradient stop to max scale.\n",
    "        gradientPositions = [0, 100]\n",
    "    else:\n",
    "        # If the highest value is above the next affordability band, set the top gradient stop to the top of the current band.\n",
    "        gradientPositions = [0, AFFORDABILITY_BREAKPOINTS['Moderately Unaffordable']/yLimMax*100] \n",
    "    # Generate the color band on the matplotlib chart\n",
    "    ax.fill_between(range(int(ax.get_xlim()[0]), int(ax.get_xlim()[1]+1)), 0, min(AFFORDABILITY_BREAKPOINTS['Moderately Unaffordable'], yLimMax), facecolor='green', alpha=0.5)\n",
    "    if(yLimMax > AFFORDABILITY_BREAKPOINTS['Moderately Unaffordable']):\n",
    "        # Define the colors (muted yellow) and the breakpoints for the \"Moderately Unaffordable\" band\n",
    "        gradientColors = gradientColors + ['#FFFF80','#FFFF80']\n",
    "        if(yLimMax < AFFORDABILITY_BREAKPOINTS['Seriously Unaffordable']):\n",
    "            # If the highest value is still lower than the next affordability band, set the top gradient stop to max scale. Use the upper stop of the previous band as the\n",
    "            # lower stop for this band.\n",
    "            gradientPositions = gradientPositions + [AFFORDABILITY_BREAKPOINTS['Moderately Unaffordable']/yLimMax*100, 100]    \n",
    "        else:\n",
    "            # If the highest value is above the next affordability band, set the top gradient stop to the top of the current band.\n",
    "            gradientPositions = gradientPositions + [AFFORDABILITY_BREAKPOINTS['Moderately Unaffordable']/yLimMax*100, AFFORDABILITY_BREAKPOINTS['Seriously Unaffordable']/yLimMax*100]    \n",
    "        ax.fill_between(range(int(ax.get_xlim()[0]), int(ax.get_xlim()[1]+1)), AFFORDABILITY_BREAKPOINTS['Moderately Unaffordable'], min(AFFORDABILITY_BREAKPOINTS['Seriously Unaffordable'], yLimMax), facecolor='yellow', alpha=0.5)\n",
    "    if(yLimMax > AFFORDABILITY_BREAKPOINTS['Seriously Unaffordable']):\n",
    "        gradientColors = gradientColors + ['#FFD280','#FFD280']\n",
    "        if(yLimMax < AFFORDABILITY_BREAKPOINTS['Severely Unaffordable']):\n",
    "            gradientPositions = gradientPositions + [AFFORDABILITY_BREAKPOINTS['Seriously Unaffordable']/yLimMax*100, 100]    \n",
    "        else:\n",
    "            gradientPositions = gradientPositions + [AFFORDABILITY_BREAKPOINTS['Seriously Unaffordable']/yLimMax*100, AFFORDABILITY_BREAKPOINTS['Severely Unaffordable']/yLimMax*100]  \n",
    "        ax.fill_between(range(int(ax.get_xlim()[0]), int(ax.get_xlim()[1]+1)), AFFORDABILITY_BREAKPOINTS['Seriously Unaffordable'], min(AFFORDABILITY_BREAKPOINTS['Severely Unaffordable'], yLimMax), facecolor='orange', alpha=0.5)\n",
    "    if(yLimMax > AFFORDABILITY_BREAKPOINTS['Severely Unaffordable']):\n",
    "        gradientColors = gradientColors + ['#FF8080','#FF8080']\n",
    "        gradientPositions = gradientPositions + [AFFORDABILITY_BREAKPOINTS['Severely Unaffordable']/yLimMax*100, 100]\n",
    "        ax.fill_between(range(int(ax.get_xlim()[0]), int(ax.get_xlim()[1]+1)), AFFORDABILITY_BREAKPOINTS['Severely Unaffordable'], yLimMax, facecolor='red', alpha=0.5)    \n",
    "   \n",
    "    # Format the y-axis labels as integers with comma separators\n",
    "    ax.get_yaxis().set_major_formatter(matplotlib.ticker.FuncFormatter(lambda x, p: format(int(x), ',')))\n",
    "    \n",
    "    # Save the figure to disk as an SVG file\n",
    "    ax.figure.savefig(os.path.join(chartDir, \"{}.svg\".format(geoid)))\n",
    "\n",
    "    plt.close(ax.figure)\n",
    "    \n",
    "    writer = pd.ExcelWriter(os.path.join(chartDir, \"{}.xlsx\".format(geoid)), engine='xlsxwriter')\n",
    "    dataOptions = {\n",
    "        \"numberFormat\": \"#,##0.0\",\n",
    "        \"columnWidth\": 20\n",
    "    }\n",
    "    chartOptions = {\n",
    "        \"colors\": \"black\",\n",
    "        \"titles\": {\n",
    "            \"chartTitle\": title,\n",
    "            \"xTitle\": xlabel,\n",
    "            \"yTitle\": ylabel\n",
    "        },\n",
    "        \"hideLegend\": True,\n",
    "        \"seriesOptions\": [{\n",
    "            \"line\": {\"width\":3},\n",
    "            \"marker\": {\"type\":\"circle\", \"size\":7}\n",
    "        }],\n",
    "        \"xAxisOptions\": {\n",
    "            \"num_font\": {\"size\":16},\n",
    "            \"min\": YEAR_RANGE[0],\n",
    "            \"max\": YEAR_RANGE[1]+1\n",
    "        },\n",
    "        \"yAxisOptions\": {\n",
    "            \"min\": 0, \n",
    "            \"max\": yLimMax,\n",
    "            \"num_font\": {\"size\":16},\n",
    "            \"num_format\": \"0\",\n",
    "            \"major_unit\": 1\n",
    "        },\n",
    "        \"plotAreaOptions\": {\n",
    "            'gradient': {\n",
    "                'colors': gradientColors,\n",
    "                'positions': gradientPositions,\n",
    "                'type': \"linear\",\n",
    "                'angle': 270\n",
    "            }            \n",
    "        },\n",
    "        \"sizeOptions\": {\n",
    "            \"x_scale\": 1.5,\n",
    "            \"y_scale\": 1.5\n",
    "        }\n",
    "    }\n",
    "    morpc.data_chart_to_excel(temp.set_index(\"Year\"), writer, chartType=\"line\", dataOptions=dataOptions, chartOptions=chartOptions)\n",
    "    writer.close()\n",
    "    \n",
    "\n",
    "%matplotlib inline"
   ]
  },
  {
   "cell_type": "markdown",
   "id": "07b0555f-a99e-4297-8623-0aa3de7122df",
   "metadata": {},
   "source": [
    "## Generate Insights catalog content"
   ]
  },
  {
   "cell_type": "markdown",
   "id": "abea4018-3b07-4999-b98b-2edbe1e29238",
   "metadata": {},
   "source": [
    "The content in the Insights platform is controlled by a catalog spreadsheet. Each tile to be displayed in the platform must have a record in the catalog.  This section will create the records for the tiles that display the alternative fuel station data.  Eventually this function will be performed by a separate staging script."
   ]
  },
  {
   "cell_type": "markdown",
   "id": "75c5632a-9833-48ed-96d1-d9a35a4ad7ba",
   "metadata": {},
   "source": [
    "First specify the column names used in the catalog."
   ]
  },
  {
   "cell_type": "code",
   "execution_count": null,
   "id": "43882b7e-d411-4830-b4d2-7698fdd8c4f2",
   "metadata": {},
   "outputs": [],
   "source": [
    "columnNames=[\"TileID\",\"TilesetID\",\"GeographyType\",\"GeographyName\",\"Category\",\"Headline\",\"Commentary\",\"ThumbnailURL\",\"Contributor\",\"Vintage\",\"UpdateInterval\",\"ShareURL\",\"DataProductURL\",\"MoreInformationURL\"]"
   ]
  },
  {
   "cell_type": "markdown",
   "id": "32ecd541-9b63-492f-8450-3b4b120b199b",
   "metadata": {},
   "source": [
    "Create a new dataframe containing only the geographies for which thumbnail images were produced in the section above."
   ]
  },
  {
   "cell_type": "code",
   "execution_count": null,
   "id": "eacdf0ef-e819-450e-9ea1-b454bfc7b431",
   "metadata": {},
   "outputs": [],
   "source": [
    "catalog = housing.loc[housing[\"GEOIDFQ\"].isin(platformIncludeList)].copy()"
   ]
  },
  {
   "cell_type": "markdown",
   "id": "5126cea2-2720-420f-9091-ae6123235ddc",
   "metadata": {},
   "source": [
    "Extract only the metadata columns of interest and flatten the data to have only one record per geography. Rename the metadata fields to match the catalog fields."
   ]
  },
  {
   "cell_type": "code",
   "execution_count": null,
   "id": "de1a160b-3b36-4b38-8b7d-125bbb39ec7c",
   "metadata": {},
   "outputs": [],
   "source": [
    "catalog = catalog.filter(items=[\"GEOIDFQ\",\"NAME\",\"GEOTYPE\"], axis=\"columns\") \\\n",
    "    .groupby(\"GEOIDFQ\").first() \\\n",
    "    .reset_index() \\\n",
    "    .rename(columns={\"NAME\":\"GeographyName\",\"GEOTYPE\":\"GeographyType\"})"
   ]
  },
  {
   "cell_type": "markdown",
   "id": "4fe8086d-0802-499a-a1c9-c326896a19a3",
   "metadata": {},
   "source": [
    "Change the GeographyType values to match the schema of the catalog."
   ]
  },
  {
   "cell_type": "code",
   "execution_count": null,
   "id": "e34adc15-65c5-47ab-879a-d71e0d3d5b76",
   "metadata": {},
   "outputs": [],
   "source": [
    "catalog[\"GeographyType\"] = catalog[\"GeographyType\"].map({\n",
    "    \"REGION15\":\"Region\",\n",
    "    \"COUNTY\":\"County\",\n",
    "    \"COUNTY-TOWNSHIP-REMAINDER\":\"Community\",\n",
    "    \"PLACE\":\"Community\"\n",
    "})"
   ]
  },
  {
   "cell_type": "markdown",
   "id": "227a2d03-2f1e-413b-9bdb-a9bd2ff18c80",
   "metadata": {},
   "source": [
    "Populate some placeholder fields."
   ]
  },
  {
   "cell_type": "code",
   "execution_count": null,
   "id": "26cf5684-e5b4-4862-bc8c-80a354dc8545",
   "metadata": {},
   "outputs": [],
   "source": [
    "catalog[\"TileID\"] = None\n",
    "catalog[\"TilesetID\"] = None\n",
    "catalog[\"Category\"] = None\n",
    "catalog[\"Headline\"] = \"TBD\"\n",
    "catalog[\"Commentary\"] = \"TBD\""
   ]
  },
  {
   "cell_type": "markdown",
   "id": "e6cf4729-9ad8-466f-b208-515bdbf0f612",
   "metadata": {},
   "source": [
    "Generate the URL for the thumbnail images. These will be hosted in GitHub and will be indexed by GEOIDFQ."
   ]
  },
  {
   "cell_type": "code",
   "execution_count": null,
   "id": "d5236da5-8d79-426a-bcd7-09cbcdc87402",
   "metadata": {},
   "outputs": [],
   "source": [
    "catalog[\"ThumbnailURL\"] = catalog[\"GEOIDFQ\"].apply(lambda geoid:\"https://raw.githubusercontent.com/morpc-insights/insights-housingprice/refs/heads/main/output_data/charts/{}.svg\".format(geoid))"
   ]
  },
  {
   "cell_type": "markdown",
   "id": "36ba2c86-62e7-4b72-966d-b79f09e72c30",
   "metadata": {},
   "source": [
    "Populate some other simple metadata.  Vintage in this case refers to the year that the content was published in Insights. This is to give readers an idea of how old it is.  UpdateInterval gives them an idea of when to expect the next version. ShareURL is a placeholder for now."
   ]
  },
  {
   "cell_type": "code",
   "execution_count": null,
   "id": "1f2a090b-60b6-4377-b6be-ad01394f326e",
   "metadata": {},
   "outputs": [],
   "source": [
    "catalog[\"Contributor\"] = \"Mid-Ohio Regional Planning Commission\"\n",
    "catalog[\"Vintage\"] = str(datetime.date.today().year)\n",
    "catalog[\"UpdateInterval\"] = \"annually\"\n",
    "catalog[\"ShareURL\"] = None"
   ]
  },
  {
   "cell_type": "markdown",
   "id": "4e976014-ac32-4869-986e-2481b7e9359c",
   "metadata": {},
   "source": [
    "Generate the data product URL.  This points to an ArcGIS Dashboard that accepts URL parameters.  GEOIDFQ is passed as a parameter to tell the app to load the data for a particular geography."
   ]
  },
  {
   "cell_type": "code",
   "execution_count": null,
   "id": "6a425d81-f5d9-4fb3-9649-91541a4ff773",
   "metadata": {},
   "outputs": [],
   "source": [
    "catalog[\"DataProductURL\"] = catalog[\"GEOIDFQ\"].apply(lambda geoid:\"https://www.arcgis.com/apps/dashboards/237dd7c3dc694feebe0b3e6381f45f93#geoid={}\".format(geoid))"
   ]
  },
  {
   "cell_type": "markdown",
   "id": "063149cc-624c-4e9b-8116-7e0cfd4fd07a",
   "metadata": {},
   "source": [
    "Generate the URLs that point to the extended commentary pages.  Default to a common page (population.pdf) hosted in GitHub.  Point to specific pages for the 15-county region and for each county."
   ]
  },
  {
   "cell_type": "code",
   "execution_count": null,
   "id": "c8199fc3-2fe8-4079-9c14-90a2280ed077",
   "metadata": {},
   "outputs": [],
   "source": [
    "catalog[\"MoreInformationURL\"] = \"https://morpc1-my.sharepoint.com/:w:/g/personal/aporr_morpc_org/EeowBvR-mvJEsEDFbiSWb1kBE5DcjowKjyYzzKE35vwfwg?e=KCvIsQ\""
   ]
  },
  {
   "cell_type": "markdown",
   "id": "6b61a857-dab2-49ba-8610-1e10715f69f5",
   "metadata": {},
   "source": [
    "Extract only the required columns."
   ]
  },
  {
   "cell_type": "code",
   "execution_count": null,
   "id": "834b3dc3-5da2-4d87-b5a1-0e224099328d",
   "metadata": {},
   "outputs": [],
   "source": [
    "catalog = catalog.filter(items=columnNames, axis=\"columns\")"
   ]
  },
  {
   "cell_type": "markdown",
   "id": "ac478240-bf5c-442f-90ad-f110f4046033",
   "metadata": {},
   "source": [
    "Inspect the listing."
   ]
  },
  {
   "cell_type": "code",
   "execution_count": null,
   "id": "173c04f6-0a80-477c-994e-c717608aa51e",
   "metadata": {},
   "outputs": [],
   "source": [
    "catalog.head()"
   ]
  },
  {
   "cell_type": "markdown",
   "id": "a9c3080e-e890-46dc-8e7e-31523f4d6d9d",
   "metadata": {},
   "source": [
    "Save the catalog to an Excel spreadsheet."
   ]
  },
  {
   "cell_type": "code",
   "execution_count": null,
   "id": "d1490183-185f-48c8-b7d2-497c0f265613",
   "metadata": {},
   "outputs": [],
   "source": [
    "catalog.to_excel(\"catalog.xlsx\", index=False)"
   ]
  },
  {
   "cell_type": "markdown",
   "id": "71d6a808-be92-4ef6-8ee7-f341d115e974",
   "metadata": {},
   "source": [
    "It is necessary to manually add these records to the master catalog or update the records already therein.  See the following file in GitHub:\n",
    "\n",
    "https://github.com/morpc/morpc-insights/blob/main/catalog/morpc_insights_catalog.xlsx\n"
   ]
  }
 ],
 "metadata": {
  "kernelspec": {
   "display_name": "Python 3 (ipykernel)",
   "language": "python",
   "name": "python3"
  },
  "language_info": {
   "codemirror_mode": {
    "name": "ipython",
    "version": 3
   },
   "file_extension": ".py",
   "mimetype": "text/x-python",
   "name": "python",
   "nbconvert_exporter": "python",
   "pygments_lexer": "ipython3",
   "version": "3.12.3"
  }
 },
 "nbformat": 4,
 "nbformat_minor": 5
}
